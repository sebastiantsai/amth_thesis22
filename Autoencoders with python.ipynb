{
 "cells": [
  {
   "cell_type": "code",
   "execution_count": 41,
   "metadata": {},
   "outputs": [],
   "source": [
    "#import necessary libraries\n",
    "\n",
    "import keras\n",
    "from keras import layers\n",
    "from keras.datasets import mnist\n",
    "import numpy as np\n",
    "import matplotlib.pyplot as plt\n",
    "import pandas as pd\n",
    "from sklearn.model_selection import train_test_split"
   ]
  },
  {
   "cell_type": "code",
   "execution_count": 9,
   "metadata": {},
   "outputs": [
    {
     "name": "stdout",
     "output_type": "stream",
     "text": [
      "(60000, 784)\n",
      "(10000, 784)\n"
     ]
    }
   ],
   "source": [
    "#load mnnist dataset that's built into keras\n",
    "(x_train, _), (x_test, _) = mnist.load_data()\n",
    "\n",
    "#normalize the data\n",
    "x_train = x_train.astype('float32') / 255.\n",
    "x_test = x_test.astype('float32') / 255.\n",
    "\n",
    "#reshape the train/test dataset \n",
    "x_train = x_train.reshape((len(x_train), np.prod(x_train.shape[1:])))\n",
    "x_test = x_test.reshape((len(x_test), np.prod(x_test.shape[1:])))\n",
    "print(x_train.shape)\n",
    "print(x_test.shape)\n"
   ]
  },
  {
   "cell_type": "code",
   "execution_count": 10,
   "metadata": {},
   "outputs": [],
   "source": [
    "# This is the size of our encoded representations\n",
    "encoding_dim = 32  # 32 floats -> compression of factor 24.5, assuming the input is 784 floats\n",
    "\n",
    "# This is our input image\n",
    "input_img = keras.Input(shape=(784,))\n",
    "# \"encoded\" is the encoded representation of the input\n",
    "encoded = layers.Dense(encoding_dim, activation='relu')(input_img)\n",
    "# \"decoded\" is the lossy reconstruction of the input\n",
    "decoded = layers.Dense(784, activation='sigmoid')(encoded)\n",
    "\n",
    "# This model maps an input to its reconstruction\n",
    "autoencoder = keras.Model(input_img, decoded)"
   ]
  },
  {
   "cell_type": "code",
   "execution_count": 11,
   "metadata": {},
   "outputs": [],
   "source": [
    "# This model maps an input to its encoded representation\n",
    "encoder = keras.Model(input_img, encoded)"
   ]
  },
  {
   "cell_type": "code",
   "execution_count": 12,
   "metadata": {},
   "outputs": [],
   "source": [
    "# This is our encoded (32-dimensional) input\n",
    "encoded_input = keras.Input(shape=(encoding_dim,))\n",
    "# Retrieve the last layer of the autoencoder model\n",
    "decoder_layer = autoencoder.layers[-1]\n",
    "# Create the decoder model\n",
    "decoder = keras.Model(encoded_input, decoder_layer(encoded_input))"
   ]
  },
  {
   "cell_type": "code",
   "execution_count": 13,
   "metadata": {},
   "outputs": [],
   "source": [
    "#choose loss function to try to minimize \n",
    "autoencoder.compile(optimizer='adam', loss='binary_crossentropy')"
   ]
  },
  {
   "cell_type": "code",
   "execution_count": 14,
   "metadata": {},
   "outputs": [
    {
     "name": "stdout",
     "output_type": "stream",
     "text": [
      "Epoch 1/50\n",
      "235/235 [==============================] - 3s 7ms/step - loss: 0.2760 - val_loss: 0.1887\n",
      "Epoch 2/50\n",
      "235/235 [==============================] - 1s 6ms/step - loss: 0.1702 - val_loss: 0.1529\n",
      "Epoch 3/50\n",
      "235/235 [==============================] - 1s 6ms/step - loss: 0.1433 - val_loss: 0.1328\n",
      "Epoch 4/50\n",
      "235/235 [==============================] - 1s 5ms/step - loss: 0.1277 - val_loss: 0.1209\n",
      "Epoch 5/50\n",
      "235/235 [==============================] - 1s 5ms/step - loss: 0.1182 - val_loss: 0.1132\n",
      "Epoch 6/50\n",
      "235/235 [==============================] - 1s 5ms/step - loss: 0.1117 - val_loss: 0.1078\n",
      "Epoch 7/50\n",
      "235/235 [==============================] - 1s 5ms/step - loss: 0.1070 - val_loss: 0.1037\n",
      "Epoch 8/50\n",
      "235/235 [==============================] - 1s 5ms/step - loss: 0.1034 - val_loss: 0.1006\n",
      "Epoch 9/50\n",
      "235/235 [==============================] - 1s 5ms/step - loss: 0.1006 - val_loss: 0.0982\n",
      "Epoch 10/50\n",
      "235/235 [==============================] - 1s 5ms/step - loss: 0.0986 - val_loss: 0.0967\n",
      "Epoch 11/50\n",
      "235/235 [==============================] - 1s 6ms/step - loss: 0.0972 - val_loss: 0.0954\n",
      "Epoch 12/50\n",
      "235/235 [==============================] - 1s 6ms/step - loss: 0.0962 - val_loss: 0.0946\n",
      "Epoch 13/50\n",
      "235/235 [==============================] - 1s 6ms/step - loss: 0.0956 - val_loss: 0.0940\n",
      "Epoch 14/50\n",
      "235/235 [==============================] - 1s 6ms/step - loss: 0.0951 - val_loss: 0.0937\n",
      "Epoch 15/50\n",
      "235/235 [==============================] - 1s 6ms/step - loss: 0.0948 - val_loss: 0.0934\n",
      "Epoch 16/50\n",
      "235/235 [==============================] - 1s 6ms/step - loss: 0.0945 - val_loss: 0.0931\n",
      "Epoch 17/50\n",
      "235/235 [==============================] - 1s 5ms/step - loss: 0.0943 - val_loss: 0.0930\n",
      "Epoch 18/50\n",
      "235/235 [==============================] - 1s 5ms/step - loss: 0.0941 - val_loss: 0.0928\n",
      "Epoch 19/50\n",
      "235/235 [==============================] - 1s 6ms/step - loss: 0.0940 - val_loss: 0.0927\n",
      "Epoch 20/50\n",
      "235/235 [==============================] - 1s 5ms/step - loss: 0.0939 - val_loss: 0.0926\n",
      "Epoch 21/50\n",
      "235/235 [==============================] - 1s 5ms/step - loss: 0.0938 - val_loss: 0.0925\n",
      "Epoch 22/50\n",
      "235/235 [==============================] - 1s 5ms/step - loss: 0.0937 - val_loss: 0.0926\n",
      "Epoch 23/50\n",
      "235/235 [==============================] - 1s 5ms/step - loss: 0.0936 - val_loss: 0.0923\n",
      "Epoch 24/50\n",
      "235/235 [==============================] - 1s 5ms/step - loss: 0.0935 - val_loss: 0.0923\n",
      "Epoch 25/50\n",
      "235/235 [==============================] - 1s 5ms/step - loss: 0.0935 - val_loss: 0.0922\n",
      "Epoch 26/50\n",
      "235/235 [==============================] - 1s 5ms/step - loss: 0.0934 - val_loss: 0.0922\n",
      "Epoch 27/50\n",
      "235/235 [==============================] - 1s 5ms/step - loss: 0.0934 - val_loss: 0.0922\n",
      "Epoch 28/50\n",
      "235/235 [==============================] - 1s 5ms/step - loss: 0.0933 - val_loss: 0.0921\n",
      "Epoch 29/50\n",
      "235/235 [==============================] - 1s 5ms/step - loss: 0.0933 - val_loss: 0.0921\n",
      "Epoch 30/50\n",
      "235/235 [==============================] - 1s 5ms/step - loss: 0.0932 - val_loss: 0.0921\n",
      "Epoch 31/50\n",
      "235/235 [==============================] - 1s 5ms/step - loss: 0.0932 - val_loss: 0.0921\n",
      "Epoch 32/50\n",
      "235/235 [==============================] - 1s 5ms/step - loss: 0.0932 - val_loss: 0.0920\n",
      "Epoch 33/50\n",
      "235/235 [==============================] - 1s 5ms/step - loss: 0.0931 - val_loss: 0.0919\n",
      "Epoch 34/50\n",
      "235/235 [==============================] - 1s 5ms/step - loss: 0.0931 - val_loss: 0.0919\n",
      "Epoch 35/50\n",
      "235/235 [==============================] - 1s 5ms/step - loss: 0.0931 - val_loss: 0.0919\n",
      "Epoch 36/50\n",
      "235/235 [==============================] - 1s 5ms/step - loss: 0.0931 - val_loss: 0.0919\n",
      "Epoch 37/50\n",
      "235/235 [==============================] - 1s 5ms/step - loss: 0.0930 - val_loss: 0.0919\n",
      "Epoch 38/50\n",
      "235/235 [==============================] - 1s 5ms/step - loss: 0.0930 - val_loss: 0.0919\n",
      "Epoch 39/50\n",
      "235/235 [==============================] - 1s 5ms/step - loss: 0.0930 - val_loss: 0.0919\n",
      "Epoch 40/50\n",
      "235/235 [==============================] - 1s 5ms/step - loss: 0.0930 - val_loss: 0.0918\n",
      "Epoch 41/50\n",
      "235/235 [==============================] - 1s 5ms/step - loss: 0.0930 - val_loss: 0.0918\n",
      "Epoch 42/50\n",
      "235/235 [==============================] - 1s 5ms/step - loss: 0.0930 - val_loss: 0.0918\n",
      "Epoch 43/50\n",
      "235/235 [==============================] - 1s 6ms/step - loss: 0.0929 - val_loss: 0.0918\n",
      "Epoch 44/50\n",
      "235/235 [==============================] - 1s 5ms/step - loss: 0.0929 - val_loss: 0.0918\n",
      "Epoch 45/50\n",
      "235/235 [==============================] - 1s 5ms/step - loss: 0.0929 - val_loss: 0.0918\n",
      "Epoch 46/50\n",
      "235/235 [==============================] - 1s 5ms/step - loss: 0.0929 - val_loss: 0.0918\n",
      "Epoch 47/50\n",
      "235/235 [==============================] - 1s 6ms/step - loss: 0.0929 - val_loss: 0.0917\n",
      "Epoch 48/50\n",
      "235/235 [==============================] - 1s 5ms/step - loss: 0.0929 - val_loss: 0.0918\n",
      "Epoch 49/50\n",
      "235/235 [==============================] - 1s 5ms/step - loss: 0.0928 - val_loss: 0.0917\n",
      "Epoch 50/50\n",
      "235/235 [==============================] - 1s 5ms/step - loss: 0.0928 - val_loss: 0.0918\n"
     ]
    },
    {
     "data": {
      "text/plain": [
       "<keras.callbacks.History at 0x1485bd0a0>"
      ]
     },
     "execution_count": 14,
     "metadata": {},
     "output_type": "execute_result"
    }
   ],
   "source": [
    "#fitting to autoencoder\n",
    "autoencoder.fit(x_train, x_train,\n",
    "                epochs=50,\n",
    "                batch_size=256,\n",
    "                shuffle=True,\n",
    "                validation_data=(x_test, x_test))"
   ]
  },
  {
   "cell_type": "code",
   "execution_count": 15,
   "metadata": {},
   "outputs": [],
   "source": [
    "# Encode and decode some digits\n",
    "# Note that we take them from the *test* set\n",
    "encoded_imgs = encoder.predict(x_test)\n",
    "decoded_imgs = decoder.predict(encoded_imgs)\n"
   ]
  },
  {
   "cell_type": "code",
   "execution_count": 18,
   "metadata": {},
   "outputs": [
    {
     "data": {
      "image/png": "[encoded data removed]",
      "text/plain": [
       "<Figure size 1440x288 with 20 Axes>"
      ]
     },
     "metadata": {
      "needs_background": "light"
     },
     "output_type": "display_data"
    }
   ],
   "source": [
    "n = 10  # How many digits we will display\n",
    "plt.figure(figsize=(20, 4))\n",
    "for i in range(n):\n",
    "    # Display original\n",
    "    ax = plt.subplot(2, n, i + 1)\n",
    "    plt.imshow(x_test[i].reshape(28, 28))\n",
    "    plt.gray()\n",
    "    ax.get_xaxis().set_visible(False)\n",
    "    ax.get_yaxis().set_visible(False)\n",
    "\n",
    "    # Display reconstruction\n",
    "    ax = plt.subplot(2, n, i + 1 + n)\n",
    "    plt.imshow(decoded_imgs[i].reshape(28, 28))\n",
    "    plt.gray()\n",
    "    ax.get_xaxis().set_visible(False)\n",
    "    ax.get_yaxis().set_visible(False)\n",
    "plt.show()"
   ]
  },
  {
   "cell_type": "code",
   "execution_count": null,
   "metadata": {},
   "outputs": [],
   "source": [
    "#the following uses the simple autoencoder developed for mnist and directly applied to our dataset"
   ]
  },
  {
   "cell_type": "code",
   "execution_count": 129,
   "metadata": {},
   "outputs": [
    {
     "name": "stdout",
     "output_type": "stream",
     "text": [
      "(4000, 170)\n"
     ]
    }
   ],
   "source": [
    "#reading in the data and converting to pandas\n",
    "df = pd.read_csv(r'comscore-activity-unscaled.csv')\n",
    "matrix_df = df.to_numpy()\n",
    "print(matrix_df.shape)"
   ]
  },
  {
   "cell_type": "code",
   "execution_count": 158,
   "metadata": {},
   "outputs": [],
   "source": [
    "#splitting to train annd test dataset\n",
    "train, test = train_test_split(matrix_df)\n",
    "#obtaining only the first few and not X\n",
    "xtrain = train[:,1:-1]/np.max(train[:,1:-2])\n",
    "xtest = test[:,1:-1]/np.max(test[:,1:-2])\n",
    "x_train = np.reshape(xtrain, (len(xtrain), 7, 24, 1))\n",
    "x_test = np.reshape(xtest, (len(xtest), 7, 24, 1))\n"
   ]
  },
  {
   "cell_type": "code",
   "execution_count": 153,
   "metadata": {},
   "outputs": [
    {
     "name": "stdout",
     "output_type": "stream",
     "text": [
      "Epoch 1/20\n",
      "12/12 [==============================] - 0s 13ms/step - loss: 0.6904 - val_loss: 0.6869\n",
      "Epoch 2/20\n",
      "12/12 [==============================] - 0s 5ms/step - loss: 0.6835 - val_loss: 0.6792\n",
      "Epoch 3/20\n",
      "12/12 [==============================] - 0s 5ms/step - loss: 0.6745 - val_loss: 0.6695\n",
      "Epoch 4/20\n",
      "12/12 [==============================] - 0s 5ms/step - loss: 0.6626 - val_loss: 0.6568\n",
      "Epoch 5/20\n",
      "12/12 [==============================] - 0s 5ms/step - loss: 0.6467 - val_loss: 0.6405\n",
      "Epoch 6/20\n",
      "12/12 [==============================] - 0s 5ms/step - loss: 0.6265 - val_loss: 0.6204\n",
      "Epoch 7/20\n",
      "12/12 [==============================] - 0s 4ms/step - loss: 0.6019 - val_loss: 0.5965\n",
      "Epoch 8/20\n",
      "12/12 [==============================] - 0s 4ms/step - loss: 0.5732 - val_loss: 0.5696\n",
      "Epoch 9/20\n",
      "12/12 [==============================] - 0s 4ms/step - loss: 0.5418 - val_loss: 0.5408\n",
      "Epoch 10/20\n",
      "12/12 [==============================] - 0s 4ms/step - loss: 0.5094 - val_loss: 0.5114\n",
      "Epoch 11/20\n",
      "12/12 [==============================] - 0s 4ms/step - loss: 0.4774 - val_loss: 0.4826\n",
      "Epoch 12/20\n",
      "12/12 [==============================] - 0s 4ms/step - loss: 0.4467 - val_loss: 0.4551\n",
      "Epoch 13/20\n",
      "12/12 [==============================] - 0s 5ms/step - loss: 0.4180 - val_loss: 0.4293\n",
      "Epoch 14/20\n",
      "12/12 [==============================] - 0s 4ms/step - loss: 0.3914 - val_loss: 0.4055\n",
      "Epoch 15/20\n",
      "12/12 [==============================] - 0s 5ms/step - loss: 0.3671 - val_loss: 0.3836\n",
      "Epoch 16/20\n",
      "12/12 [==============================] - 0s 5ms/step - loss: 0.3452 - val_loss: 0.3636\n",
      "Epoch 17/20\n",
      "12/12 [==============================] - 0s 5ms/step - loss: 0.3251 - val_loss: 0.3454\n",
      "Epoch 18/20\n",
      "12/12 [==============================] - 0s 5ms/step - loss: 0.3070 - val_loss: 0.3290\n",
      "Epoch 19/20\n",
      "12/12 [==============================] - 0s 5ms/step - loss: 0.2908 - val_loss: 0.3140\n",
      "Epoch 20/20\n",
      "12/12 [==============================] - 0s 5ms/step - loss: 0.2761 - val_loss: 0.3004\n"
     ]
    },
    {
     "data": {
      "text/plain": [
       "<keras.callbacks.History at 0x15b920eb0>"
      ]
     },
     "execution_count": 153,
     "metadata": {},
     "output_type": "execute_result"
    }
   ],
   "source": [
    "# This is the size of our encoded representations\n",
    "encoding_dim = 7  # 7 floats -> compression of factor 24, assuming the input is 24*7 floats\n",
    "\n",
    "# This is our input image\n",
    "input_img = keras.Input(shape=(168,))\n",
    "# \"encoded\" is the encoded representation of the input\n",
    "encoded = layers.Dense(encoding_dim, activation='relu')(input_img)\n",
    "# \"decoded\" is the lossy reconstruction of the input\n",
    "decoded = layers.Dense(168, activation='sigmoid')(encoded)\n",
    "\n",
    "# This model maps an input to its reconstruction\n",
    "autoencoder = keras.Model(input_img, decoded)\n",
    "\n",
    "# This model maps an input to its encoded representation\n",
    "encoder = keras.Model(input_img, encoded)\n",
    "\n",
    "# This is our encoded (7-dimensional) input\n",
    "encoded_input = keras.Input(shape=(encoding_dim,))\n",
    "# Retrieve the last layer of the autoencoder model\n",
    "decoder_layer = autoencoder.layers[-1]\n",
    "# Create the decoder model\n",
    "decoder = keras.Model(encoded_input, decoder_layer(encoded_input))\n",
    "\n",
    "autoencoder.compile(optimizer='adam', loss='binary_crossentropy')\n",
    "\n",
    "autoencoder.fit(xtrain, xtrain,\n",
    "                epochs=20,\n",
    "                batch_size = 256,\n",
    "                shuffle=True,\n",
    "                validation_data=(xtest, xtest))"
   ]
  },
  {
   "cell_type": "code",
   "execution_count": 154,
   "metadata": {},
   "outputs": [],
   "source": [
    "#predicting\n",
    "encodedimgs = encoder.predict(xtest)\n",
    "decodedimgs = decoder.predict(encodedimgs)"
   ]
  },
  {
   "cell_type": "code",
   "execution_count": 155,
   "metadata": {},
   "outputs": [
    {
     "data": {
      "image/png": "[encoded data removed]",
      "text/plain": [
       "<Figure size 5760x1152 with 8 Axes>"
      ]
     },
     "metadata": {
      "needs_background": "light"
     },
     "output_type": "display_data"
    }
   ],
   "source": [
    "#plot predictios v. actual\n",
    "n = 4  # How many we will display\n",
    "plt.figure(figsize=(80, 16))\n",
    "for i in range(n):\n",
    "    # Display original\n",
    "    ax = plt.subplot(2, n, i + 1)\n",
    "    plt.imshow(xtest[i].reshape(7, 24))\n",
    "    plt.gray()\n",
    "    ax.get_xaxis().set_visible(False)\n",
    "    ax.get_yaxis().set_visible(False)\n",
    "\n",
    "    # Display reconstruction\n",
    "    ax = plt.subplot(2, n, i + 1 + n)\n",
    "    plt.imshow(decodedimgs[i].reshape(7, 24))\n",
    "    plt.gray()\n",
    "    ax.get_xaxis().set_visible(False)\n",
    "    ax.get_yaxis().set_visible(False)\n",
    "plt.show()"
   ]
  },
  {
   "cell_type": "code",
   "execution_count": null,
   "metadata": {},
   "outputs": [],
   "source": [
    "#the following blocks applies convoluted neural networks for the dataset"
   ]
  },
  {
   "cell_type": "code",
   "execution_count": 159,
   "metadata": {},
   "outputs": [
    {
     "name": "stdout",
     "output_type": "stream",
     "text": [
      "Model: \"model_56\"\n",
      "_________________________________________________________________\n",
      " Layer (type)                Output Shape              Param #   \n",
      "=================================================================\n",
      " input_47 (InputLayer)       [(None, 7, 24, 1)]        0         \n",
      "                                                                 \n",
      " conv2d_122 (Conv2D)         (None, 7, 24, 32)         320       \n",
      "                                                                 \n",
      " max_pooling2d_50 (MaxPoolin  (None, 7, 12, 32)        0         \n",
      " g2D)                                                            \n",
      "                                                                 \n",
      " conv2d_123 (Conv2D)         (None, 7, 12, 64)         18496     \n",
      "                                                                 \n",
      " max_pooling2d_51 (MaxPoolin  (None, 7, 6, 64)         0         \n",
      " g2D)                                                            \n",
      "                                                                 \n",
      " conv2d_124 (Conv2D)         (None, 7, 6, 128)         73856     \n",
      "                                                                 \n",
      " conv2d_125 (Conv2D)         (None, 7, 6, 128)         147584    \n",
      "                                                                 \n",
      " up_sampling2d_50 (UpSamplin  (None, 7, 12, 128)       0         \n",
      " g2D)                                                            \n",
      "                                                                 \n",
      " conv2d_126 (Conv2D)         (None, 7, 12, 64)         73792     \n",
      "                                                                 \n",
      " up_sampling2d_51 (UpSamplin  (None, 7, 24, 64)        0         \n",
      " g2D)                                                            \n",
      "                                                                 \n",
      " conv2d_127 (Conv2D)         (None, 7, 24, 1)          577       \n",
      "                                                                 \n",
      "=================================================================\n",
      "Total params: 314,625\n",
      "Trainable params: 314,625\n",
      "Non-trainable params: 0\n",
      "_________________________________________________________________\n"
     ]
    }
   ],
   "source": [
    "\n",
    "input_img = keras.Input(shape=(7, 24, 1))\n",
    "\n",
    "conv1 = layers.Conv2D(32, (3, 3), activation='relu', padding='same')(input_img) #7 x 24 x 32\n",
    "pool1 = layers.MaxPooling2D(pool_size=(1, 2))(conv1) #14 x 14 x 32\n",
    "conv2 = layers.Conv2D(64, (3, 3), activation='relu', padding='same')(pool1) #7 x 12 x 64\n",
    "pool2 = layers.MaxPooling2D(pool_size=(1, 2))(conv2) #7 x 7 x 64\n",
    "conv3 = layers.Conv2D(128, (3, 3), activation='relu', padding='same')(pool2) #7 x 6 x 128 (small and thick)\n",
    "\n",
    "#decoder\n",
    "conv4 = layers.Conv2D(128, (3, 3), activation='relu', padding='same')(conv3) #7 x 6 x 128\n",
    "up1 = layers.UpSampling2D((1,2))(conv4) # 7 x 12 x 128\n",
    "conv5 = layers.Conv2D(64, (3, 3), activation='relu', padding='same')(up1) # 14 x 14 x 64\n",
    "up2 = layers.UpSampling2D((1,2))(conv5) # 7 x 24 x 64\n",
    "decoded = layers.Conv2D(1, (3, 3), activation='sigmoid', padding='same')(up2) # 7 x 24 x 1\n",
    "\n",
    "\n",
    "\n",
    "autoencoder = keras.Model(input_img, decoded)\n",
    "autoencoder.compile(optimizer='adam', loss='binary_crossentropy')\n",
    "autoencoder.summary()"
   ]
  },
  {
   "cell_type": "code",
   "execution_count": 160,
   "metadata": {},
   "outputs": [
    {
     "name": "stdout",
     "output_type": "stream",
     "text": [
      "Epoch 1/15\n",
      "24/24 [==============================] - 7s 255ms/step - loss: 0.3029 - val_loss: 0.1095\n",
      "Epoch 2/15\n",
      "24/24 [==============================] - 5s 210ms/step - loss: 0.0714 - val_loss: 0.0900\n",
      "Epoch 3/15\n",
      "24/24 [==============================] - 6s 239ms/step - loss: 0.0530 - val_loss: 0.0734\n",
      "Epoch 4/15\n",
      "24/24 [==============================] - 4s 184ms/step - loss: 0.0478 - val_loss: 0.0674\n",
      "Epoch 5/15\n",
      "24/24 [==============================] - 4s 178ms/step - loss: 0.0443 - val_loss: 0.0633\n",
      "Epoch 6/15\n",
      "24/24 [==============================] - 5s 192ms/step - loss: 0.0410 - val_loss: 0.0599\n",
      "Epoch 7/15\n",
      "24/24 [==============================] - 5s 192ms/step - loss: 0.0390 - val_loss: 0.0583\n",
      "Epoch 8/15\n",
      "24/24 [==============================] - 4s 179ms/step - loss: 0.0382 - val_loss: 0.0574\n",
      "Epoch 9/15\n",
      "24/24 [==============================] - 6s 268ms/step - loss: 0.0375 - val_loss: 0.0562\n",
      "Epoch 10/15\n",
      "24/24 [==============================] - 7s 277ms/step - loss: 0.0369 - val_loss: 0.0557\n",
      "Epoch 11/15\n",
      "24/24 [==============================] - 4s 185ms/step - loss: 0.0365 - val_loss: 0.0552\n",
      "Epoch 12/15\n",
      "24/24 [==============================] - 4s 186ms/step - loss: 0.0363 - val_loss: 0.0550\n",
      "Epoch 13/15\n",
      "24/24 [==============================] - 4s 176ms/step - loss: 0.0361 - val_loss: 0.0548\n",
      "Epoch 14/15\n",
      "24/24 [==============================] - 4s 175ms/step - loss: 0.0360 - val_loss: 0.0547\n",
      "Epoch 15/15\n",
      "24/24 [==============================] - 4s 177ms/step - loss: 0.0359 - val_loss: 0.0545\n"
     ]
    },
    {
     "data": {
      "text/plain": [
       "<keras.callbacks.History at 0x14c882070>"
      ]
     },
     "execution_count": 160,
     "metadata": {},
     "output_type": "execute_result"
    }
   ],
   "source": [
    "autoencoder.fit(x_train, x_train, \n",
    "                batch_size=128,\n",
    "                epochs=15,\n",
    "                verbose=1,\n",
    "                validation_data=(x_test, x_test))"
   ]
  },
  {
   "cell_type": "code",
   "execution_count": 128,
   "metadata": {},
   "outputs": [
    {
     "data": {
      "image/png": "[encoded data removed]",
      "text/plain": [
       "<Figure size 5760x1152 with 8 Axes>"
      ]
     },
     "metadata": {
      "needs_background": "light"
     },
     "output_type": "display_data"
    }
   ],
   "source": [
    "decoded_imgs = autoencoder.predict(x_test)\n",
    "\n",
    "n = 4\n",
    "plt.figure(figsize=(80, 16))\n",
    "for i in range(1, n + 1):\n",
    "    # Display original\n",
    "    ax = plt.subplot(2, n, i)\n",
    "    plt.imshow(x_test[i].reshape(7, 24))\n",
    "    plt.gray()\n",
    "    ax.get_xaxis().set_visible(False)\n",
    "    ax.get_yaxis().set_visible(False)\n",
    "\n",
    "    # Display reconstruction\n",
    "    ax = plt.subplot(2, n, i + n)\n",
    "    plt.imshow(decoded_imgs[i].reshape(7, 24))\n",
    "    plt.gray()\n",
    "    ax.get_xaxis().set_visible(False)\n",
    "    ax.get_yaxis().set_visible(False)\n",
    "plt.show()\n"
   ]
  }
 ],
 "metadata": {
  "kernelspec": {
   "display_name": "Python 3",
   "language": "python",
   "name": "python3"
  },
  "language_info": {
   "codemirror_mode": {
    "name": "ipython",
    "version": 3
   },
   "file_extension": ".py",
   "mimetype": "text/x-python",
   "name": "python",
   "nbconvert_exporter": "python",
   "pygments_lexer": "ipython3",
   "version": "3.8.2"
  }
 },
 "nbformat": 4,
 "nbformat_minor": 4
}
